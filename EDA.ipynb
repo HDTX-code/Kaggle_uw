{
 "cells": [
  {
   "cell_type": "markdown",
   "metadata": {},
   "source": [
    "# EDA"
   ]
  },
  {
   "cell_type": "code",
   "execution_count": 1,
   "metadata": {},
   "outputs": [],
   "source": [
    "# # 导入库\n",
    "import os\n",
    "import pandas as pd\n",
    "import numpy as np\n",
    "import matplotlib.pyplot as plt"
   ]
  },
  {
   "cell_type": "markdown",
   "metadata": {},
   "source": [
    "### 生成Data_csv并保存"
   ]
  },
  {
   "cell_type": "code",
   "execution_count": 2,
   "metadata": {},
   "outputs": [],
   "source": [
    "root_path = '/Users/hongxia/Desktop/uw/uw-madison-gi-tract-image-segmentation'"
   ]
  },
  {
   "cell_type": "code",
   "execution_count": 3,
   "metadata": {},
   "outputs": [
    {
     "name": "stdout",
     "output_type": "stream",
     "text": [
      "                         id        class segmentation\n",
      "0  case123_day20_slice_0001  large_bowel          NaN\n",
      "1  case123_day20_slice_0001  small_bowel          NaN\n",
      "2  case123_day20_slice_0001      stomach          NaN\n",
      "3  case123_day20_slice_0002  large_bowel          NaN\n",
      "4  case123_day20_slice_0002  small_bowel          NaN\n"
     ]
    }
   ],
   "source": [
    "data_csv_raw = pd.read_csv(os.path.join(root_path, 'train.csv'))\n",
    "print(data_csv_raw.head())"
   ]
  },
  {
   "cell_type": "code",
   "execution_count": 4,
   "metadata": {},
   "outputs": [],
   "source": [
    "def get_path(str_id):\n",
    "    root_path = '/Users/hongxia/Desktop/uw/uw-madison-gi-tract-image-segmentation'\n",
    "    train_root_path = os.path.join(root_path, 'train')\n",
    "    str_id_list = str_id.split('_')\n",
    "    case_path = os.path.join(train_root_path, str_id_list[0])\n",
    "    day_path = os.path.join(case_path, str_id_list[0] + '_' + str_id_list[1])\n",
    "    slice_path_list = os.listdir(os.path.join(day_path, 'scans'))\n",
    "    slice_path_10_list = []\n",
    "    for item in slice_path_list:\n",
    "        slice_path_10_list.append(item[:10])\n",
    "    index = slice_path_10_list.index(str_id_list[2] + '_' + str_id_list[3])\n",
    "    path = os.path.join(day_path, slice_path_list[index])\n",
    "    return path\n",
    "    \n",
    "def get_day_id(str_id):\n",
    "   str_id_list = str_id.split('_')\n",
    "   return str_id_list[1][3:]"
   ]
  },
  {
   "cell_type": "code",
   "execution_count": 5,
   "metadata": {},
   "outputs": [
    {
     "data": {
      "text/plain": [
       "'/Users/hongxia/Desktop/uw/uw-madison-gi-tract-image-segmentation/train/case123/case123_day20/slice_0001_266_266_1.50_1.50.png'"
      ]
     },
     "execution_count": 5,
     "metadata": {},
     "output_type": "execute_result"
    }
   ],
   "source": [
    "get_path('case123_day20_slice_0001')"
   ]
  },
  {
   "cell_type": "code",
   "execution_count": 6,
   "metadata": {},
   "outputs": [
    {
     "name": "stdout",
     "output_type": "stream",
     "text": [
      "                         id  \\\n",
      "0  case123_day20_slice_0001   \n",
      "1  case123_day20_slice_0001   \n",
      "2  case123_day20_slice_0001   \n",
      "3  case123_day20_slice_0002   \n",
      "4  case123_day20_slice_0002   \n",
      "\n",
      "                                                path        class  \\\n",
      "0  /Users/hongxia/Desktop/uw/uw-madison-gi-tract-...  large_bowel   \n",
      "1  /Users/hongxia/Desktop/uw/uw-madison-gi-tract-...  small_bowel   \n",
      "2  /Users/hongxia/Desktop/uw/uw-madison-gi-tract-...      stomach   \n",
      "3  /Users/hongxia/Desktop/uw/uw-madison-gi-tract-...  large_bowel   \n",
      "4  /Users/hongxia/Desktop/uw/uw-madison-gi-tract-...  small_bowel   \n",
      "\n",
      "  segmentation case_id day_id slice_h slice_w px_spacing_h px_spacing_w  \\\n",
      "0          NaN     NaN    NaN     NaN     NaN          NaN          NaN   \n",
      "1          NaN     NaN    NaN     NaN     NaN          NaN          NaN   \n",
      "2          NaN     NaN    NaN     NaN     NaN          NaN          NaN   \n",
      "3          NaN     NaN    NaN     NaN     NaN          NaN          NaN   \n",
      "4          NaN     NaN    NaN     NaN     NaN          NaN          NaN   \n",
      "\n",
      "  slice_id  \n",
      "0      NaN  \n",
      "1      NaN  \n",
      "2      NaN  \n",
      "3      NaN  \n",
      "4      NaN  \n"
     ]
    }
   ],
   "source": [
    "data_csv = pd.DataFrame(columns=['id', 'path', 'class', 'segmentation',  \n",
    "                                 'case_id', 'day_id', 'slice_h', 'slice_w', 'px_spacing_h', \n",
    "                                 'px_spacing_w', 'slice_id'])\n",
    "data_csv[['id', 'class', 'segmentation']] = data_csv_raw\n",
    "data_csv['path'] = data_csv['id'].apply(get_path)\n",
    "print(data_csv.head())"
   ]
  },
  {
   "cell_type": "code",
   "execution_count": 7,
   "metadata": {},
   "outputs": [
    {
     "name": "stdout",
     "output_type": "stream",
     "text": [
      "                              id  \\\n",
      "count                     115488   \n",
      "unique                     38496   \n",
      "top     case123_day20_slice_0001   \n",
      "freq                           3   \n",
      "\n",
      "                                                     path        class  \\\n",
      "count                                              115488       115488   \n",
      "unique                                              38496            3   \n",
      "top     /Users/hongxia/Desktop/uw/uw-madison-gi-tract-...  large_bowel   \n",
      "freq                                                    3        38496   \n",
      "\n",
      "       segmentation case_id  day_id slice_h slice_w px_spacing_h px_spacing_w  \\\n",
      "count        115488  115488  115488  115488  115488       115488       115488   \n",
      "unique        33900      85      35       4       4            2            2   \n",
      "top                  case36       0     266     266         1.50         1.50   \n",
      "freq          81575    2592   35040   77760   77760       111888       111888   \n",
      "\n",
      "       slice_id  \n",
      "count    115488  \n",
      "unique      144  \n",
      "top        0001  \n",
      "freq        822  \n"
     ]
    }
   ],
   "source": [
    "data_csv['case_id'] = data_csv['id'].apply(lambda x: x[:x.index('_')])\n",
    "data_csv['day_id'] = data_csv['id'].apply(get_day_id)\n",
    "data_csv['slice_h'] = data_csv['path'].apply(lambda x: x[-21:-18])\n",
    "data_csv['slice_w'] = data_csv['path'].apply(lambda x: x[-17:-14])\n",
    "data_csv['px_spacing_h'] = data_csv['path'].apply(lambda x: x[-13:-9])\n",
    "data_csv['px_spacing_w'] = data_csv['path'].apply(lambda x: x[-8:-4])\n",
    "data_csv['slice_id'] = data_csv['id'].apply(lambda x: x[-4:])\n",
    "data_csv.fillna('', inplace=True)\n",
    "print(data_csv.describe())"
   ]
  },
  {
   "cell_type": "code",
   "execution_count": 8,
   "metadata": {},
   "outputs": [],
   "source": [
    "# data_csv.to_csv(os.path.join('./', 'data_csv.csv'))"
   ]
  },
  {
   "cell_type": "markdown",
   "metadata": {},
   "source": [
    "### Data_csv分析"
   ]
  },
  {
   "cell_type": "code",
   "execution_count": null,
   "metadata": {},
   "outputs": [],
   "source": []
  }
 ],
 "metadata": {
  "interpreter": {
   "hash": "c4fb6c88e9bc802833ea47d49aeeb2f4d8ca270698f79161e879eb9464e5d340"
  },
  "kernelspec": {
   "display_name": "Python 3.6.13 ('YOLO')",
   "language": "python",
   "name": "python3"
  },
  "language_info": {
   "codemirror_mode": {
    "name": "ipython",
    "version": 3
   },
   "file_extension": ".py",
   "mimetype": "text/x-python",
   "name": "python",
   "nbconvert_exporter": "python",
   "pygments_lexer": "ipython3",
   "version": "3.9.7"
  },
  "orig_nbformat": 4
 },
 "nbformat": 4,
 "nbformat_minor": 2
}
